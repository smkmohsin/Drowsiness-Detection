{
  "nbformat": 4,
  "nbformat_minor": 0,
  "metadata": {
    "colab": {
      "name": "Drowsiness-Detection",
      "provenance": [],
      "mount_file_id": "147WgfwALGXE3X3-Wv-AJqyEbWlbKvgAl",
      "authorship_tag": "ABX9TyOmciaimLfAbNRSQaBQgTxo",
      "include_colab_link": true
    },
    "kernelspec": {
      "name": "python3",
      "display_name": "Python 3"
    },
    "language_info": {
      "name": "python"
    },
    "accelerator": "GPU"
  },
  "cells": [
    {
      "cell_type": "markdown",
      "metadata": {
        "id": "view-in-github",
        "colab_type": "text"
      },
      "source": [
        "<a href=\"https://colab.research.google.com/github/smkmohsin/Drowsiness-Detection/blob/main/Drowsiness_Detection.ipynb\" target=\"_parent\"><img src=\"https://colab.research.google.com/assets/colab-badge.svg\" alt=\"Open In Colab\"/></a>"
      ]
    },
    {
      "cell_type": "code",
      "source": [
        "!pip install dlib\n"
      ],
      "metadata": {
        "colab": {
          "base_uri": "https://localhost:8080/"
        },
        "id": "MRpxIleajZT3",
        "outputId": "8f3c99f4-c9e9-4773-a8b3-7b2463161793"
      },
      "execution_count": 2,
      "outputs": [
        {
          "output_type": "stream",
          "name": "stdout",
          "text": [
            "Requirement already satisfied: dlib in /usr/local/lib/python3.7/dist-packages (19.18.0)\n"
          ]
        }
      ]
    },
    {
      "cell_type": "code",
      "source": [
        "!pip install face_recognition"
      ],
      "metadata": {
        "colab": {
          "base_uri": "https://localhost:8080/"
        },
        "id": "NTNFZkmbqzNN",
        "outputId": "477fb9e9-81d1-406f-fab3-098395ea277f"
      },
      "execution_count": 2,
      "outputs": [
        {
          "output_type": "stream",
          "name": "stdout",
          "text": [
            "Collecting face_recognition\n",
            "  Downloading face_recognition-1.3.0-py2.py3-none-any.whl (15 kB)\n",
            "Requirement already satisfied: numpy in /usr/local/lib/python3.7/dist-packages (from face_recognition) (1.21.5)\n",
            "Requirement already satisfied: dlib>=19.7 in /usr/local/lib/python3.7/dist-packages (from face_recognition) (19.18.0)\n",
            "Requirement already satisfied: Click>=6.0 in /usr/local/lib/python3.7/dist-packages (from face_recognition) (7.1.2)\n",
            "Requirement already satisfied: Pillow in /usr/local/lib/python3.7/dist-packages (from face_recognition) (7.1.2)\n",
            "Collecting face-recognition-models>=0.3.0\n",
            "  Downloading face_recognition_models-0.3.0.tar.gz (100.1 MB)\n",
            "\u001b[K     |████████████████████████████████| 100.1 MB 31 kB/s \n",
            "\u001b[?25hBuilding wheels for collected packages: face-recognition-models\n",
            "  Building wheel for face-recognition-models (setup.py) ... \u001b[?25l\u001b[?25hdone\n",
            "  Created wheel for face-recognition-models: filename=face_recognition_models-0.3.0-py2.py3-none-any.whl size=100566186 sha256=090856b9d3659a19732d56ea9152fb865b44e8a2c776606dd7df6f48902d4dc3\n",
            "  Stored in directory: /root/.cache/pip/wheels/d6/81/3c/884bcd5e1c120ff548d57c2ecc9ebf3281c9a6f7c0e7e7947a\n",
            "Successfully built face-recognition-models\n",
            "Installing collected packages: face-recognition-models, face-recognition\n",
            "Successfully installed face-recognition-1.3.0 face-recognition-models-0.3.0\n"
          ]
        }
      ]
    },
    {
      "cell_type": "code",
      "execution_count": 12,
      "metadata": {
        "id": "ePx6AL6Aidua"
      },
      "outputs": [],
      "source": [
        "import cv2\n",
        "import face_recognition as fr\n",
        "import dlib\n",
        "import os"
      ]
    },
    {
      "cell_type": "markdown",
      "source": [
        "# **Basic Face Matching**\n",
        "\n",
        "First, we get the location of where exactly the face is in the image using face_location() method(which gets the outline of the face) on the RGB image. Then face encodings(markings of eyes, nose, mouth, jaws which remain the same for different images of the same person) are taken using face_encodings() function which returns a list containing 128 measurements. Both these two steps are followed for the original and test image. Then a comparison between these two returned lists is done by the function compare_faces() which returns a list of boolean values(True or False). The face distance function gets the value of that by how much the two images differ. The lower the distance the better the matching and vice versa."
      ],
      "metadata": {
        "id": "bNapAx2QvF0e"
      }
    },
    {
      "cell_type": "code",
      "source": [
        "# With same image\n",
        "imgMoh = fr.load_image_file('/content/drive/MyDrive/Almabetter/Module 7/Capstone Project/ImagesAttendance/Mohsin.jpg')\n",
        "Test1 = imgMoh\n",
        "fLoc = fr.face_locations(imgMoh)[0]\n",
        "encodeMoh = fr.face_encodings(imgMoh)[0]\n",
        "fLocTest = fr.face_locations(Test1)[0]\n",
        "encTest = fr.face_encodings(Test1)[0]\n",
        "result1 = fr.compare_faces([encodeMoh],encTest)\n",
        "faceDist1 = fr.face_distance([encodeMoh],encTest)\n",
        "print(result1,faceDist1)\n",
        "\n",
        "# With different image\n",
        "imgMoh = fr.load_image_file('/content/drive/MyDrive/Almabetter/Module 7/Capstone Project/Mohsin.jpg')\n",
        "Test2 = fr.load_image_file('/content/drive/MyDrive/Almabetter/Module 7/Capstone Project/ImagesAttendance/Chris.jpg')\n",
        "fLoc = fr.face_locations(imgMoh)[0]\n",
        "encodeMoh = fr.face_encodings(imgMoh)[0]\n",
        "fLocTest = fr.face_locations(Test2)[0]\n",
        "encTest = fr.face_encodings(Test2)[0]\n",
        "result2 = fr.compare_faces([encodeMoh],encTest)\n",
        "faceDist2 = fr.face_distance([encodeMoh],encTest)\n",
        "print(result2,faceDist2)"
      ],
      "metadata": {
        "colab": {
          "base_uri": "https://localhost:8080/"
        },
        "id": "AzHeFsZcis6b",
        "outputId": "a0d4f0ea-db5b-41a0-9c90-2beabcd182fe"
      },
      "execution_count": 10,
      "outputs": [
        {
          "output_type": "stream",
          "name": "stdout",
          "text": [
            "[True] [0.]\n",
            "[False] [1.03049334]\n"
          ]
        }
      ]
    },
    {
      "cell_type": "markdown",
      "source": [
        "# Building Face Attendance System \n",
        "\n",
        "Now we are ready to build a realtime face attendance system wherein webcam captured frames will be matched against the existing database images and if the match is found then it’ll store it in a CSV file called ‘Attendance Register’ along with name and time of capture. Only once the file will store the matched image’s details, if the same image is received again then it’ll not update.\n",
        "\n",
        "Path setting to the directory containing the image database. Read each image and the images array. Append the filenames into a list called Names and remove the extension."
      ],
      "metadata": {
        "id": "M4dOFW7DwcGH"
      }
    },
    {
      "cell_type": "code",
      "source": [
        "pathlib = '/content/drive/MyDrive/Almabetter/Module 7/Capstone Project/ImagesAttendance'\n",
        "images = []\n",
        "Names = []\n",
        "myList = os.listdir(pathlib)\n",
        "print(myList)\n",
        "for cl in myList:\n",
        "    currImg = cv2.imread(f'{pathlib}/{cl}')\n",
        "    images.append(currImg)\n",
        "    Names.append(os.path.splitext(cl)[0])\n",
        "print(Names)"
      ],
      "metadata": {
        "colab": {
          "base_uri": "https://localhost:8080/"
        },
        "id": "6QNHkFEkrXYL",
        "outputId": "6e38f10b-c4ce-4c1b-ee1d-24630a9cf0a3"
      },
      "execution_count": 14,
      "outputs": [
        {
          "output_type": "stream",
          "name": "stdout",
          "text": [
            "['Mohsin.jpg', 'Chris.jpg']\n",
            "['Mohsin', 'Chris']\n"
          ]
        }
      ]
    },
    {
      "cell_type": "code",
      "source": [
        ""
      ],
      "metadata": {
        "id": "ndMcZSBRwfqJ"
      },
      "execution_count": null,
      "outputs": []
    }
  ]
}